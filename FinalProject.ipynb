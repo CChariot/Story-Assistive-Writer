{
 "cells": [
  {
   "cell_type": "code",
   "execution_count": 3,
   "id": "c670ccff",
   "metadata": {},
   "outputs": [
    {
     "name": "stdout",
     "output_type": "stream",
     "text": [
      "Requirement already satisfied: openai in c:\\users\\spencer\\anaconda3\\lib\\site-packages (1.8.0)\n",
      "Requirement already satisfied: anyio<5,>=3.5.0 in c:\\users\\spencer\\anaconda3\\lib\\site-packages (from openai) (3.5.0)\n",
      "Requirement already satisfied: sniffio in c:\\users\\spencer\\anaconda3\\lib\\site-packages (from openai) (1.3.0)\n",
      "Requirement already satisfied: tqdm>4 in c:\\users\\spencer\\anaconda3\\lib\\site-packages (from openai) (4.64.1)\n",
      "Requirement already satisfied: pydantic<3,>=1.9.0 in c:\\users\\spencer\\anaconda3\\lib\\site-packages (from openai) (1.10.5)\n",
      "Requirement already satisfied: httpx<1,>=0.23.0 in c:\\users\\spencer\\anaconda3\\lib\\site-packages (from openai) (0.26.0)\n",
      "Requirement already satisfied: typing-extensions<5,>=4.7 in c:\\users\\spencer\\anaconda3\\lib\\site-packages (from openai) (4.9.0)\n",
      "Requirement already satisfied: distro<2,>=1.7.0 in c:\\users\\spencer\\anaconda3\\lib\\site-packages (from openai) (1.9.0)\n",
      "Requirement already satisfied: idna>=2.8 in c:\\users\\spencer\\anaconda3\\lib\\site-packages (from anyio<5,>=3.5.0->openai) (3.3)\n",
      "Requirement already satisfied: httpcore==1.* in c:\\users\\spencer\\anaconda3\\lib\\site-packages (from httpx<1,>=0.23.0->openai) (1.0.2)\n",
      "Requirement already satisfied: certifi in c:\\users\\spencer\\anaconda3\\lib\\site-packages (from httpx<1,>=0.23.0->openai) (2022.9.14)\n",
      "Requirement already satisfied: h11<0.15,>=0.13 in c:\\users\\spencer\\anaconda3\\lib\\site-packages (from httpcore==1.*->httpx<1,>=0.23.0->openai) (0.14.0)\n",
      "Requirement already satisfied: colorama in c:\\users\\spencer\\anaconda3\\lib\\site-packages (from tqdm>4->openai) (0.4.5)\n",
      "Note: you may need to restart the kernel to use updated packages.\n"
     ]
    }
   ],
   "source": [
    "%pip install openai\n",
    "import openai\n",
    "from openai import OpenAI"
   ]
  },
  {
   "cell_type": "markdown",
   "id": "c2b991ab",
   "metadata": {},
   "source": [
    "Setup the prompts"
   ]
  },
  {
   "cell_type": "code",
   "execution_count": 10,
   "id": "2671ac63",
   "metadata": {},
   "outputs": [],
   "source": [
    "persona = \"You are an AI assistant to help writers evolve their story ideas, plot, characters, and settings. Based on the information you are given, provide advice on possible solutions on the questions prompted by the user. Avoid creating actual writing for the story, and instead give suggestions and tips in detail. If the amount of information is not sufficient, prompt the user for more information on that question. Assume the story points given are in chronological order. Consider the genres when constructing the responses, and if there are multiple genres, consider the combination of the genre in an equal manner in the responses. Consider each question individually and avoid using information from other questions in your answers.\"\n",
    "characters = [\"Charlie - A young man who is looking for his father's killer.\",\"Bharlie - An evil person, who killed Charlie's father\", \"Aharlie - Charlie's father, who is dead.\"]\n",
    "settings = [\"A cold winter in London\", \"A mild Summer in Paris\", \"The dark streets of New York\", \"A forest in the spring\"]\n",
    "genres = [\"mystery\"]\n",
    "storypoints = [\"Charlie wanders London, looking for clues about his father's murder\", \"Charlie finds his father's long lost compass in the middle of the forest\", \"Charlie finds Bharlie in Paris, who flees to New York\"]\n",
    "quesitons = [\"What would a new character be like in the story?\",\"Please give me another name for Bharlie.\",\"What ways can I end the story?\",\"How can I improve the character of Bharlie in a serious manner?\",\"What could I use the father's compass for in the story?\",\"What would be a good plot twist when Charlie arrives in Paris?\"]\n",
    "AIMessages = []\n",
    "AIMessages.append({\"role\": \"system\", \"content\": persona})\n",
    "for elem in characters:\n",
    "    AIMessages.append({\"role\": \"system\", \"content\": \"Character: \" + elem})\n",
    "for elem in settings:\n",
    "    AIMessages.append({\"role\": \"system\", \"content\": \"Setting: \"+ elem})\n",
    "for elem in genres:\n",
    "    AIMessages.append({\"role\": \"system\", \"content\": \"Genre: \"+ elem})\n",
    "for elem in storypoints:\n",
    "    AIMessages.append({\"role\": \"system\", \"content\": \"Story Point: \"+ elem})\n",
    "for elem in quesitons:\n",
    "    AIMessages.append({\"role\": \"system\", \"content\": \"Question: \"+ elem})"
   ]
  },
  {
   "cell_type": "code",
   "execution_count": 11,
   "id": "6e8d4417",
   "metadata": {},
   "outputs": [],
   "source": [
    "from openai import OpenAI\n",
    "response = openai.chat.completions.create(\n",
    "        model = 'gpt-3.5-turbo',\n",
    "        temperature = 1.25,\n",
    "        messages=AIMessages,\n",
    "     )\n",
    "StoryAssistant = response.choices[0].message.content"
   ]
  },
  {
   "cell_type": "code",
   "execution_count": 12,
   "id": "2845dc19",
   "metadata": {},
   "outputs": [
    {
     "name": "stdout",
     "output_type": "stream",
     "text": [
      "To introduce a new character in the story, you could consider adding a mentor figure for Charlie. This new character could be someone who has experience in solving mysteries or dealing with similar situations. They could provide guidance, information, or even tools to help Charlie in his quest to find his father's killer. This mentor character could also bring an element of wisdom and depth to the story. A possible name for this mentor could be Winston Locke, a retired detective with a mysterious past.\n",
      "\n",
      "For an alternate name for the character Bharlie, you could consider the name Darrius Blackwell. This name could evoke a sense of mystery and darkness, fitting for an evil character who killed Charlie's father.\n",
      "\n",
      "In terms of ending the story, you have several options to consider:\n",
      "1. Charlie finally confronts Bharlie in the dark streets of New York, leading to a dramatic showdown.\n",
      "2. With the help of new allies, Charlie unravels the truth behind his father's murder and achieves closure.\n",
      "3. The father's compass plays a crucial role in leading Charlie to Bharlie, ultimately bringing justice to his father's memory.\n",
      "4. Charlie makes peace with his past and decides to let go of seeking revenge, opting for a path of forgiveness and healing.\n",
      "\n",
      "To improve the character of Bharlie in a serious manner, consider giving Bharlie more depth and complexity. Explore his motivations for committing the crime and delve into his backstory to understand why he turned to evil. You could also add layers to Bharlie's personality by showing moments of vulnerability or inner conflict, humanizing him in a way that makes the audience question his actions.\n",
      "\n",
      "The father's compass in the story could serve as a key plot device. It could be revealed that the compass holds a hidden compartment with a cryptic message or a clue that leads Charlie to the truth behind his father's murder. The compass could also be a symbol of guidance and revelation, helping Charlie navigate through the twists and turns of his investigation, ultimately leading him to the answers he seeks.\n",
      "\n",
      "For a plot twist when Charlie arrives in Paris, you could have him discover that Bharlie is not actually the killer but was framed by someone else. This revelation could turn the story on its head, forcing Charlie to rethink his assumptions and dig deeper into the true identity of his father's killer. This twist could lead to unexpected alliances, betrayals, and revelations as Charlie unravels the real mystery behind his father's murder in a surprising and suspenseful way.\n"
     ]
    }
   ],
   "source": [
    "print(StoryAssistant)"
   ]
  },
  {
   "cell_type": "code",
   "execution_count": null,
   "id": "8fba0296",
   "metadata": {},
   "outputs": [],
   "source": []
  }
 ],
 "metadata": {
  "kernelspec": {
   "display_name": "Python 3 (ipykernel)",
   "language": "python",
   "name": "python3"
  },
  "language_info": {
   "codemirror_mode": {
    "name": "ipython",
    "version": 3
   },
   "file_extension": ".py",
   "mimetype": "text/x-python",
   "name": "python",
   "nbconvert_exporter": "python",
   "pygments_lexer": "ipython3",
   "version": "3.9.13"
  }
 },
 "nbformat": 4,
 "nbformat_minor": 5
}
